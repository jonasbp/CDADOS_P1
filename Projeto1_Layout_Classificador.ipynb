{
 "cells": [
  {
   "cell_type": "markdown",
   "metadata": {},
   "source": [
    "# Projeto 1 - Ciência dos Dados"
   ]
  },
  {
   "cell_type": "markdown",
   "metadata": {},
   "source": [
    "Nome: Jonas Bonfá Pelegrina\n",
    "\n",
    "Nome: Ricardo Mourão Rodrigues Filho"
   ]
  },
  {
   "cell_type": "markdown",
   "metadata": {},
   "source": [
    "Atenção: Serão permitidos grupos de três pessoas, mas com uma rubrica mais exigente. Grupos deste tamanho precisarão fazer um questionário de avaliação de trabalho em equipe"
   ]
  },
  {
   "cell_type": "markdown",
   "metadata": {},
   "source": [
    "## Introdução:"
   ]
  },
  {
   "cell_type": "markdown",
   "metadata": {},
   "source": [
    "O Nosso trabalho consiste em um tema muito saboroso dependendo aos olhos de quem vê, ou melhor, de quem saboreia! O tópico que desejamos trabalhar é o \"Big Mac\", o famoso sanduíche do \"McDonalds\". Mas será que as pessoas possuem um sentimento positvo em relação a ele?\n",
    "\n",
    "Com isso, vamos analisar \"tweets\" de usuários do Twitter avaliando o quanto aquela informação é relevante para nossa classificação. \n",
    "\n",
    "Então qual é o critério para uma classifição relevante?\n",
    "\n",
    "- Se o tweet possui um sentimento positivo em relação ao \"big Mac\", ele recebe uma classificação \"1\";\n",
    "- Caso não, ele recebe uma classificação \"0\".\n",
    "\n",
    "Ademais, usamos o *Classificador Naive-Bayes* para nos ajudar nos cálculos matématicos."
   ]
  },
  {
   "cell_type": "markdown",
   "metadata": {},
   "source": [
    "<img src=\"https://veja.abril.com.br/wp-content/uploads/2016/07/big-mac-mc-donalds.jpg?quality=70&strip=info&resize=680,453\" alt=\"foto do bigmac\">"
   ]
  },
  {
   "cell_type": "markdown",
   "metadata": {},
   "source": [
    "___\n",
    "Carregando algumas bibliotecas:"
   ]
  },
  {
   "cell_type": "code",
   "execution_count": 28,
   "metadata": {},
   "outputs": [],
   "source": [
    "%matplotlib inline\n",
    "import pandas as pd\n",
    "import matplotlib.pyplot as plt\n",
    "import numpy as np\n",
    "import os\n",
    "from IPython.display import display\n",
    "pd.options.display.max_rows = 13"
   ]
  },
  {
   "cell_type": "code",
   "execution_count": 29,
   "metadata": {
    "scrolled": false
   },
   "outputs": [
    {
     "name": "stdout",
     "output_type": "stream",
     "text": [
      "Esperamos trabalhar no diretório\n",
      "/Users/jonaspelegrina/OneDrive - Insper - Institudo de Ensino e Pesquisa/Ciência dos dados/Projeto01_etapa2/P1\n"
     ]
    }
   ],
   "source": [
    "print('Esperamos trabalhar no diretório')\n",
    "print(os.getcwd())"
   ]
  },
  {
   "cell_type": "markdown",
   "metadata": {},
   "source": [
    "___\n",
    "## Montando um Classificador Naive-Bayes:\n",
    "\n",
    "Considerando apenas as mensagens da planilha Treinamento, ensine  seu classificador. Carregando a base de dados com os tweets classificados como relevantes e não relevantes:"
   ]
  },
  {
   "cell_type": "code",
   "execution_count": 30,
   "metadata": {},
   "outputs": [],
   "source": [
    "filename = 'big mac.xlsx'"
   ]
  },
  {
   "cell_type": "code",
   "execution_count": 31,
   "metadata": {},
   "outputs": [
    {
     "data": {
      "text/html": [
       "<div>\n",
       "<style scoped>\n",
       "    .dataframe tbody tr th:only-of-type {\n",
       "        vertical-align: middle;\n",
       "    }\n",
       "\n",
       "    .dataframe tbody tr th {\n",
       "        vertical-align: top;\n",
       "    }\n",
       "\n",
       "    .dataframe thead th {\n",
       "        text-align: right;\n",
       "    }\n",
       "</style>\n",
       "<table border=\"1\" class=\"dataframe\">\n",
       "  <thead>\n",
       "    <tr style=\"text-align: right;\">\n",
       "      <th></th>\n",
       "      <th>Treinamento</th>\n",
       "      <th>Classificação</th>\n",
       "    </tr>\n",
       "  </thead>\n",
       "  <tbody>\n",
       "    <tr>\n",
       "      <th>0</th>\n",
       "      <td>@srtaa_reisp ainda me realizo com esse big mac</td>\n",
       "      <td>1</td>\n",
       "    </tr>\n",
       "    <tr>\n",
       "      <th>1</th>\n",
       "      <td>@nxx0hx @g1 excesso de big mac e coca-cola no ...</td>\n",
       "      <td>1</td>\n",
       "    </tr>\n",
       "    <tr>\n",
       "      <th>2</th>\n",
       "      <td>acordei com um big mac me esperando na mesa \\n...</td>\n",
       "      <td>1</td>\n",
       "    </tr>\n",
       "    <tr>\n",
       "      <th>3</th>\n",
       "      <td>bateu vontade de comer um big mac</td>\n",
       "      <td>1</td>\n",
       "    </tr>\n",
       "    <tr>\n",
       "      <th>4</th>\n",
       "      <td>rt @fee_araaujo: queria almoçar um big mac 😭</td>\n",
       "      <td>1</td>\n",
       "    </tr>\n",
       "    <tr>\n",
       "      <th>...</th>\n",
       "      <td>...</td>\n",
       "      <td>...</td>\n",
       "    </tr>\n",
       "    <tr>\n",
       "      <th>295</th>\n",
       "      <td>quem usa a frase “tem pão com ovo se achando b...</td>\n",
       "      <td>0</td>\n",
       "    </tr>\n",
       "    <tr>\n",
       "      <th>296</th>\n",
       "      <td>1 fav e eu peço um big mac</td>\n",
       "      <td>0</td>\n",
       "    </tr>\n",
       "    <tr>\n",
       "      <th>297</th>\n",
       "      <td>rt @carloscalmeida3: fala q é socialista/comun...</td>\n",
       "      <td>0</td>\n",
       "    </tr>\n",
       "    <tr>\n",
       "      <th>298</th>\n",
       "      <td>@spampijoana ao menos contigo estou descansado...</td>\n",
       "      <td>0</td>\n",
       "    </tr>\n",
       "    <tr>\n",
       "      <th>299</th>\n",
       "      <td>@gosgotica @enzolavinsky era só pela primeira ...</td>\n",
       "      <td>0</td>\n",
       "    </tr>\n",
       "  </tbody>\n",
       "</table>\n",
       "<p>300 rows × 2 columns</p>\n",
       "</div>"
      ],
      "text/plain": [
       "                                           Treinamento  Classificação\n",
       "0       @srtaa_reisp ainda me realizo com esse big mac              1\n",
       "1    @nxx0hx @g1 excesso de big mac e coca-cola no ...              1\n",
       "2    acordei com um big mac me esperando na mesa \\n...              1\n",
       "3                    bateu vontade de comer um big mac              1\n",
       "4         rt @fee_araaujo: queria almoçar um big mac 😭              1\n",
       "..                                                 ...            ...\n",
       "295  quem usa a frase “tem pão com ovo se achando b...              0\n",
       "296                         1 fav e eu peço um big mac              0\n",
       "297  rt @carloscalmeida3: fala q é socialista/comun...              0\n",
       "298  @spampijoana ao menos contigo estou descansado...              0\n",
       "299  @gosgotica @enzolavinsky era só pela primeira ...              0\n",
       "\n",
       "[300 rows x 2 columns]"
      ]
     },
     "execution_count": 31,
     "metadata": {},
     "output_type": "execute_result"
    }
   ],
   "source": [
    "train = pd.read_excel(filename)\n",
    "train['Classificação']=train['Unnamed: 1']\n",
    "del train['Unnamed: 1']\n",
    "train"
   ]
  },
  {
   "cell_type": "markdown",
   "metadata": {},
   "source": [
    "### Removendo informações desnecessárias:"
   ]
  },
  {
   "cell_type": "code",
   "execution_count": 32,
   "metadata": {},
   "outputs": [],
   "source": [
    "import re \n",
    "\n",
    "# Função que remove pontuação\n",
    "def cleanup(texto):\n",
    "    pontuacao = '[\\/!-.:?;]'\n",
    "    padronização = re.compile(pontuacao)\n",
    "    texto_substituido = re.sub(padronização, '', texto)\n",
    "    return texto_substituido\n",
    "\n",
    "for i in range(300): \n",
    "    # Usamos o método replace() para substituir uma frase especificada por outra frase especificada.\n",
    "    # Removendo pontuação com o replace\n",
    "    train = train.replace(train['Treinamento'][i], cleanup(train['Treinamento'][i]))\n",
    "    \n",
    "    # Removendo 'rt' com replace\n",
    "    if train['Treinamento'][i][:2] == 'rt':\n",
    "        train = train.replace(train['Treinamento'][i], train['Treinamento'][i][3:])\n",
    "    \n",
    "    # Removendo '\\n' com o replace\n",
    "    train['Treinamento'] = train['Treinamento'].str.replace('[\\n]','')\n",
    "    \n",
    "    # Deixando todas as letras minúsculas com replace:\n",
    "    # O método lower() retorna uma string em que todos os caracteres são minúsculos\n",
    "    train = train.replace(train['Treinamento'][i], train['Treinamento'][i].lower()) "
   ]
  },
  {
   "cell_type": "code",
   "execution_count": 33,
   "metadata": {},
   "outputs": [
    {
     "data": {
      "text/html": [
       "<div>\n",
       "<style scoped>\n",
       "    .dataframe tbody tr th:only-of-type {\n",
       "        vertical-align: middle;\n",
       "    }\n",
       "\n",
       "    .dataframe tbody tr th {\n",
       "        vertical-align: top;\n",
       "    }\n",
       "\n",
       "    .dataframe thead th {\n",
       "        text-align: right;\n",
       "    }\n",
       "</style>\n",
       "<table border=\"1\" class=\"dataframe\">\n",
       "  <thead>\n",
       "    <tr style=\"text-align: right;\">\n",
       "      <th></th>\n",
       "      <th>Treinamento</th>\n",
       "      <th>Classificação</th>\n",
       "    </tr>\n",
       "  </thead>\n",
       "  <tbody>\n",
       "    <tr>\n",
       "      <th>0</th>\n",
       "      <td>@srtaa_reisp ainda me realizo com esse big mac</td>\n",
       "      <td>1</td>\n",
       "    </tr>\n",
       "    <tr>\n",
       "      <th>1</th>\n",
       "      <td>@nxx0hx @g1 excesso de big mac e cocacola no c...</td>\n",
       "      <td>1</td>\n",
       "    </tr>\n",
       "    <tr>\n",
       "      <th>2</th>\n",
       "      <td>acordei com um big mac me esperando na mesa ai...</td>\n",
       "      <td>1</td>\n",
       "    </tr>\n",
       "    <tr>\n",
       "      <th>3</th>\n",
       "      <td>bateu vontade de comer um big mac</td>\n",
       "      <td>1</td>\n",
       "    </tr>\n",
       "    <tr>\n",
       "      <th>4</th>\n",
       "      <td>@fee_araaujo queria almoçar um big mac 😭</td>\n",
       "      <td>1</td>\n",
       "    </tr>\n",
       "    <tr>\n",
       "      <th>...</th>\n",
       "      <td>...</td>\n",
       "      <td>...</td>\n",
       "    </tr>\n",
       "    <tr>\n",
       "      <th>295</th>\n",
       "      <td>quem usa a frase “tem pão com ovo se achando b...</td>\n",
       "      <td>0</td>\n",
       "    </tr>\n",
       "    <tr>\n",
       "      <th>296</th>\n",
       "      <td>1 fav e eu peço um big mac</td>\n",
       "      <td>0</td>\n",
       "    </tr>\n",
       "    <tr>\n",
       "      <th>297</th>\n",
       "      <td>@carloscalmeida3 fala q é socialistacomunista ...</td>\n",
       "      <td>0</td>\n",
       "    </tr>\n",
       "    <tr>\n",
       "      <th>298</th>\n",
       "      <td>@spampijoana ao menos contigo estou descansado...</td>\n",
       "      <td>0</td>\n",
       "    </tr>\n",
       "    <tr>\n",
       "      <th>299</th>\n",
       "      <td>@gosgotica @enzolavinsky era só pela primeira ...</td>\n",
       "      <td>0</td>\n",
       "    </tr>\n",
       "  </tbody>\n",
       "</table>\n",
       "<p>300 rows × 2 columns</p>\n",
       "</div>"
      ],
      "text/plain": [
       "                                           Treinamento  Classificação\n",
       "0       @srtaa_reisp ainda me realizo com esse big mac              1\n",
       "1    @nxx0hx @g1 excesso de big mac e cocacola no c...              1\n",
       "2    acordei com um big mac me esperando na mesa ai...              1\n",
       "3                    bateu vontade de comer um big mac              1\n",
       "4             @fee_araaujo queria almoçar um big mac 😭              1\n",
       "..                                                 ...            ...\n",
       "295  quem usa a frase “tem pão com ovo se achando b...              0\n",
       "296                         1 fav e eu peço um big mac              0\n",
       "297  @carloscalmeida3 fala q é socialistacomunista ...              0\n",
       "298  @spampijoana ao menos contigo estou descansado...              0\n",
       "299  @gosgotica @enzolavinsky era só pela primeira ...              0\n",
       "\n",
       "[300 rows x 2 columns]"
      ]
     },
     "execution_count": 33,
     "metadata": {},
     "output_type": "execute_result"
    }
   ],
   "source": [
    "train"
   ]
  },
  {
   "cell_type": "markdown",
   "metadata": {},
   "source": [
    "### *Tweets* relavantes"
   ]
  },
  {
   "cell_type": "code",
   "execution_count": 34,
   "metadata": {
    "scrolled": true
   },
   "outputs": [
    {
     "data": {
      "text/html": [
       "<div>\n",
       "<style scoped>\n",
       "    .dataframe tbody tr th:only-of-type {\n",
       "        vertical-align: middle;\n",
       "    }\n",
       "\n",
       "    .dataframe tbody tr th {\n",
       "        vertical-align: top;\n",
       "    }\n",
       "\n",
       "    .dataframe thead th {\n",
       "        text-align: right;\n",
       "    }\n",
       "</style>\n",
       "<table border=\"1\" class=\"dataframe\">\n",
       "  <thead>\n",
       "    <tr style=\"text-align: right;\">\n",
       "      <th></th>\n",
       "      <th>Treinamento</th>\n",
       "      <th>Classificação</th>\n",
       "    </tr>\n",
       "  </thead>\n",
       "  <tbody>\n",
       "    <tr>\n",
       "      <th>0</th>\n",
       "      <td>@srtaa_reisp ainda me realizo com esse big mac</td>\n",
       "      <td>1</td>\n",
       "    </tr>\n",
       "    <tr>\n",
       "      <th>1</th>\n",
       "      <td>@nxx0hx @g1 excesso de big mac e cocacola no c...</td>\n",
       "      <td>1</td>\n",
       "    </tr>\n",
       "    <tr>\n",
       "      <th>2</th>\n",
       "      <td>acordei com um big mac me esperando na mesa ai...</td>\n",
       "      <td>1</td>\n",
       "    </tr>\n",
       "    <tr>\n",
       "      <th>3</th>\n",
       "      <td>bateu vontade de comer um big mac</td>\n",
       "      <td>1</td>\n",
       "    </tr>\n",
       "    <tr>\n",
       "      <th>4</th>\n",
       "      <td>@fee_araaujo queria almoçar um big mac 😭</td>\n",
       "      <td>1</td>\n",
       "    </tr>\n",
       "  </tbody>\n",
       "</table>\n",
       "</div>"
      ],
      "text/plain": [
       "                                         Treinamento  Classificação\n",
       "0     @srtaa_reisp ainda me realizo com esse big mac              1\n",
       "1  @nxx0hx @g1 excesso de big mac e cocacola no c...              1\n",
       "2  acordei com um big mac me esperando na mesa ai...              1\n",
       "3                  bateu vontade de comer um big mac              1\n",
       "4           @fee_araaujo queria almoçar um big mac 😭              1"
      ]
     },
     "execution_count": 34,
     "metadata": {},
     "output_type": "execute_result"
    }
   ],
   "source": [
    "# tweets relevantes\n",
    "tweets_1 = train.loc[(train['Classificação'] == 1)]\n",
    "tweets_1.head()"
   ]
  },
  {
   "cell_type": "markdown",
   "metadata": {},
   "source": [
    "### *Tweets* irrelevantes:"
   ]
  },
  {
   "cell_type": "code",
   "execution_count": 35,
   "metadata": {},
   "outputs": [
    {
     "data": {
      "text/html": [
       "<div>\n",
       "<style scoped>\n",
       "    .dataframe tbody tr th:only-of-type {\n",
       "        vertical-align: middle;\n",
       "    }\n",
       "\n",
       "    .dataframe tbody tr th {\n",
       "        vertical-align: top;\n",
       "    }\n",
       "\n",
       "    .dataframe thead th {\n",
       "        text-align: right;\n",
       "    }\n",
       "</style>\n",
       "<table border=\"1\" class=\"dataframe\">\n",
       "  <thead>\n",
       "    <tr style=\"text-align: right;\">\n",
       "      <th></th>\n",
       "      <th>Treinamento</th>\n",
       "      <th>Classificação</th>\n",
       "    </tr>\n",
       "  </thead>\n",
       "  <tbody>\n",
       "    <tr>\n",
       "      <th>150</th>\n",
       "      <td>vem comer seu big mac sem queijo e sem maiones...</td>\n",
       "      <td>0</td>\n",
       "    </tr>\n",
       "    <tr>\n",
       "      <th>151</th>\n",
       "      <td>@ruizeto_big_mac bruh ahahahahahahahahahahah t...</td>\n",
       "      <td>0</td>\n",
       "    </tr>\n",
       "    <tr>\n",
       "      <th>152</th>\n",
       "      <td>fala q é socialistacomunista ataca o capitalis...</td>\n",
       "      <td>0</td>\n",
       "    </tr>\n",
       "    <tr>\n",
       "      <th>153</th>\n",
       "      <td>pedi big mac e matei minha vontade credo</td>\n",
       "      <td>0</td>\n",
       "    </tr>\n",
       "    <tr>\n",
       "      <th>154</th>\n",
       "      <td>@andrey1980 siiiiim eu nem sabia o que era big...</td>\n",
       "      <td>0</td>\n",
       "    </tr>\n",
       "  </tbody>\n",
       "</table>\n",
       "</div>"
      ],
      "text/plain": [
       "                                           Treinamento  Classificação\n",
       "150  vem comer seu big mac sem queijo e sem maiones...              0\n",
       "151  @ruizeto_big_mac bruh ahahahahahahahahahahah t...              0\n",
       "152  fala q é socialistacomunista ataca o capitalis...              0\n",
       "153           pedi big mac e matei minha vontade credo              0\n",
       "154  @andrey1980 siiiiim eu nem sabia o que era big...              0"
      ]
     },
     "execution_count": 35,
     "metadata": {},
     "output_type": "execute_result"
    }
   ],
   "source": [
    "# tweets irrelevantes\n",
    "tweets_0 = train.loc[(train['Classificação'] == 0)]\n",
    "tweets_0.head()"
   ]
  },
  {
   "cell_type": "markdown",
   "metadata": {},
   "source": [
    "### Probabilidade do *tweet* ser relevante (P_1):"
   ]
  },
  {
   "cell_type": "code",
   "execution_count": 36,
   "metadata": {},
   "outputs": [
    {
     "name": "stdout",
     "output_type": "stream",
     "text": [
      "A probabilidade dos tweets relevantes é: 0.5\n"
     ]
    }
   ],
   "source": [
    "P_1 = tweets_1.Treinamento.count()/train.Treinamento.count()\n",
    "print('A probabilidade dos tweets relevantes é: {0}' .format(P_1))"
   ]
  },
  {
   "cell_type": "markdown",
   "metadata": {},
   "source": [
    "### Probabilidade do *tweet* ser irrelevante (P_0):"
   ]
  },
  {
   "cell_type": "code",
   "execution_count": 37,
   "metadata": {},
   "outputs": [
    {
     "name": "stdout",
     "output_type": "stream",
     "text": [
      "A probabilidade dos tweets irrelevantes é: 0.5\n"
     ]
    }
   ],
   "source": [
    "P_0 = tweets_0.Treinamento.count()/train.Treinamento.count()\n",
    "print('A probabilidade dos tweets irrelevantes é: {0}' .format(P_0))"
   ]
  },
  {
   "cell_type": "markdown",
   "metadata": {},
   "source": [
    "### Frequência absoluta das palavras que aparecem nos *tweets* relevantes:"
   ]
  },
  {
   "cell_type": "code",
   "execution_count": 38,
   "metadata": {
    "scrolled": true
   },
   "outputs": [
    {
     "name": "stdout",
     "output_type": "stream",
     "text": [
      "O número de palavras totais no grupo de relevantes é: 1799\n",
      "O número de palavras totais, não repetidas, no grupo de relevantes é: 621\n"
     ]
    }
   ],
   "source": [
    "# Formando um texto com todas as palavras relevantes nele:\n",
    "texto_1 = \" \".join(tweets_1['Treinamento'])\n",
    "\n",
    "#transformando o texto armazenado, em um pd.series usando a função split(), quebrando cada palavra do texto:\n",
    "series_1 = pd.Series(texto_1.split())\n",
    "#Contabilizando as palavras no texto relevante:\n",
    "series_1 = series_1.value_counts()\n",
    "print('O número de palavras totais no grupo de relevantes é: {0}'.format(series_1.sum()))\n",
    "print('O número de palavras totais, não repetidas, no grupo de relevantes é: {0}'.format(len(series_1)))"
   ]
  },
  {
   "cell_type": "markdown",
   "metadata": {},
   "source": [
    "### Frequência absoluta das palavras que aparecem nos *tweets* irrelevantes:"
   ]
  },
  {
   "cell_type": "code",
   "execution_count": 39,
   "metadata": {},
   "outputs": [
    {
     "name": "stdout",
     "output_type": "stream",
     "text": [
      "O número de palavras totais no grupo de irrelevantes é: 2367\n",
      "O número de palavras totais, não repetidas, no grupo de irrelevantes é: 903\n"
     ]
    }
   ],
   "source": [
    "# Formando um texto com todas as palavras relevantes nele:\n",
    "texto_0 = \" \".join(tweets_0['Treinamento'])\n",
    "\n",
    "#transformando o texto armazenado em uma série usando a função split(), quebrando cada palavra do texto:\n",
    "series_0 = pd.Series(texto_0.split())\n",
    "#Contabilizando as palavras no texto irrelevante:\n",
    "series_0 = series_0.value_counts()\n",
    "print('O número de palavras totais no grupo de irrelevantes é: {0}'.format(series_0.sum()))\n",
    "print('O número de palavras totais, não repetidas, no grupo de irrelevantes é: {0}'.format(len(series_0)))"
   ]
  },
  {
   "cell_type": "markdown",
   "metadata": {},
   "source": [
    "### Frequência absoluta total:"
   ]
  },
  {
   "cell_type": "code",
   "execution_count": 40,
   "metadata": {
    "scrolled": true
   },
   "outputs": [
    {
     "name": "stdout",
     "output_type": "stream",
     "text": [
      "O número de palavras totais é: 4166\n",
      "O número de palavras totais, não repetidas, é: 1281\n"
     ]
    }
   ],
   "source": [
    "# Formando um texto total com todas as palavras nele:\n",
    "texto_total = texto_1 + texto_0\n",
    "#transformando o texto armazenado em uma série usando a função split(), quebrando cada palavra do texto:\n",
    "series = pd.Series(texto_total.split())\n",
    "#Contabilizando as palavras no texto total:\n",
    "series = series.value_counts()\n",
    "print('O número de palavras totais é: {0}'.format(series.sum()+1))\n",
    "print('O número de palavras totais, não repetidas, é: {0}'.format(len(series)))"
   ]
  },
  {
   "cell_type": "markdown",
   "metadata": {},
   "source": [
    "### Que conclusões podemos tomar de acordo com as frequências absolutas calculadas?  <br>\n",
    "<ul>\n",
    "    <li>A probabilidade de uma palavra ser relevante $P(1)$ pode ser achada;</li>\n",
    "    <li>A probabilidade de uma palavra ser irrelevante $P(0)$ pode ser achada.</li>\n",
    "</ul>"
   ]
  },
  {
   "cell_type": "code",
   "execution_count": 41,
   "metadata": {},
   "outputs": [
    {
     "data": {
      "text/plain": [
       "0.4319327731092437"
      ]
     },
     "execution_count": 41,
     "metadata": {},
     "output_type": "execute_result"
    }
   ],
   "source": [
    "# Achando P(1)\n",
    "P_palavra_1 = len(texto_1.split())/len(texto_total.split())\n",
    "P_palavra_1"
   ]
  },
  {
   "cell_type": "code",
   "execution_count": 42,
   "metadata": {},
   "outputs": [
    {
     "data": {
      "text/plain": [
       "0.5683073229291716"
      ]
     },
     "execution_count": 42,
     "metadata": {},
     "output_type": "execute_result"
    }
   ],
   "source": [
    "# Achando P(0)\n",
    "P_palavra_0 = len(texto_0.split())/len(texto_total.split())\n",
    "P_palavra_0"
   ]
  },
  {
   "cell_type": "markdown",
   "metadata": {},
   "source": [
    "___\n",
    "## Verificando a performance do Classificador:\n",
    "\n",
    "Agora você deve testar o seu classificador com a base de Testes. Carregando a base de dados com os tweets classificados como relevantes e não relevantes:"
   ]
  },
  {
   "cell_type": "code",
   "execution_count": 43,
   "metadata": {},
   "outputs": [
    {
     "data": {
      "text/html": [
       "<div>\n",
       "<style scoped>\n",
       "    .dataframe tbody tr th:only-of-type {\n",
       "        vertical-align: middle;\n",
       "    }\n",
       "\n",
       "    .dataframe tbody tr th {\n",
       "        vertical-align: top;\n",
       "    }\n",
       "\n",
       "    .dataframe thead th {\n",
       "        text-align: right;\n",
       "    }\n",
       "</style>\n",
       "<table border=\"1\" class=\"dataframe\">\n",
       "  <thead>\n",
       "    <tr style=\"text-align: right;\">\n",
       "      <th></th>\n",
       "      <th>Teste</th>\n",
       "      <th>Classificação</th>\n",
       "    </tr>\n",
       "  </thead>\n",
       "  <tbody>\n",
       "    <tr>\n",
       "      <th>0</th>\n",
       "      <td>tudo q eu queria agr é ta todo encolhido na sa...</td>\n",
       "      <td>1</td>\n",
       "    </tr>\n",
       "    <tr>\n",
       "      <th>1</th>\n",
       "      <td>queria um big mac, uma batata grande e um milk...</td>\n",
       "      <td>1</td>\n",
       "    </tr>\n",
       "    <tr>\n",
       "      <th>2</th>\n",
       "      <td>@its_lela @burgerkingbr desmereceram meu big m...</td>\n",
       "      <td>1</td>\n",
       "    </tr>\n",
       "    <tr>\n",
       "      <th>3</th>\n",
       "      <td>achei um big mac na geladeira que salvou 🤣</td>\n",
       "      <td>1</td>\n",
       "    </tr>\n",
       "    <tr>\n",
       "      <th>4</th>\n",
       "      <td>hoje minha família inteira jantou big mac. tá ...</td>\n",
       "      <td>1</td>\n",
       "    </tr>\n",
       "    <tr>\n",
       "      <th>...</th>\n",
       "      <td>...</td>\n",
       "      <td>...</td>\n",
       "    </tr>\n",
       "    <tr>\n",
       "      <th>195</th>\n",
       "      <td>já não comia um big mac há algum tempo</td>\n",
       "      <td>0</td>\n",
       "    </tr>\n",
       "    <tr>\n",
       "      <th>196</th>\n",
       "      <td>o big mac r$0,99 mas nem isso eu tenho pra com...</td>\n",
       "      <td>0</td>\n",
       "    </tr>\n",
       "    <tr>\n",
       "      <th>197</th>\n",
       "      <td>\"errado é o febem quando foi comprar um big ma...</td>\n",
       "      <td>0</td>\n",
       "    </tr>\n",
       "    <tr>\n",
       "      <th>198</th>\n",
       "      <td>rt @mancheterevista: linha de frente do projot...</td>\n",
       "      <td>0</td>\n",
       "    </tr>\n",
       "    <tr>\n",
       "      <th>199</th>\n",
       "      <td>só um sushi ou um big mac p fechar c chave d o...</td>\n",
       "      <td>0</td>\n",
       "    </tr>\n",
       "  </tbody>\n",
       "</table>\n",
       "<p>200 rows × 2 columns</p>\n",
       "</div>"
      ],
      "text/plain": [
       "                                                 Teste  Classificação\n",
       "0    tudo q eu queria agr é ta todo encolhido na sa...              1\n",
       "1    queria um big mac, uma batata grande e um milk...              1\n",
       "2    @its_lela @burgerkingbr desmereceram meu big m...              1\n",
       "3           achei um big mac na geladeira que salvou 🤣              1\n",
       "4    hoje minha família inteira jantou big mac. tá ...              1\n",
       "..                                                 ...            ...\n",
       "195             já não comia um big mac há algum tempo              0\n",
       "196  o big mac r$0,99 mas nem isso eu tenho pra com...              0\n",
       "197  \"errado é o febem quando foi comprar um big ma...              0\n",
       "198  rt @mancheterevista: linha de frente do projot...              0\n",
       "199  só um sushi ou um big mac p fechar c chave d o...              0\n",
       "\n",
       "[200 rows x 2 columns]"
      ]
     },
     "execution_count": 43,
     "metadata": {},
     "output_type": "execute_result"
    }
   ],
   "source": [
    "test = pd.read_excel(filename, sheet_name = 'Teste')\n",
    "test['Classificação']=test['Unnamed: 1']\n",
    "del test['Unnamed: 1']\n",
    "test"
   ]
  },
  {
   "cell_type": "markdown",
   "metadata": {},
   "source": [
    "### Removendo informações desnecessárias:"
   ]
  },
  {
   "cell_type": "code",
   "execution_count": 44,
   "metadata": {},
   "outputs": [],
   "source": [
    "import re \n",
    "\n",
    "# Função que remove pontuação\n",
    "def cleanup(texto):\n",
    "    pontuacao = '[\\/!-.:?;]'\n",
    "    padronização = re.compile(pontuacao)\n",
    "    texto_substituido = re.sub(padronização, '', texto)\n",
    "    return texto_substituido\n",
    "\n",
    "for i in range(200):\n",
    "    # Usamos o método replace() para substituir uma frase especificada por outra frase especificada.\n",
    "    # Removendo pontuação com o replace\n",
    "    test = test.replace(test['Teste'][i], cleanup(test['Teste'][i]))\n",
    "    \n",
    "    # Removendo 'rt' com replace\n",
    "    if test['Teste'][i][:2] == 'rt':\n",
    "        test = test.replace(test['Teste'][i], test['Teste'][i][3:])\n",
    "    \n",
    "    # Removendo '\\n' com o replace\n",
    "    test['Teste'] = test['Teste'].str.replace('[\\n]','')\n",
    "    \n",
    "    # Deixando todas as letras minúsculas com replace:\n",
    "    # O método lower() retorna uma string em que todos os caracteres são minúsculos\n",
    "    test = test.replace(test['Teste'][i], test['Teste'][i].lower())"
   ]
  },
  {
   "cell_type": "code",
   "execution_count": 45,
   "metadata": {},
   "outputs": [
    {
     "data": {
      "text/html": [
       "<div>\n",
       "<style scoped>\n",
       "    .dataframe tbody tr th:only-of-type {\n",
       "        vertical-align: middle;\n",
       "    }\n",
       "\n",
       "    .dataframe tbody tr th {\n",
       "        vertical-align: top;\n",
       "    }\n",
       "\n",
       "    .dataframe thead th {\n",
       "        text-align: right;\n",
       "    }\n",
       "</style>\n",
       "<table border=\"1\" class=\"dataframe\">\n",
       "  <thead>\n",
       "    <tr style=\"text-align: right;\">\n",
       "      <th></th>\n",
       "      <th>Teste</th>\n",
       "      <th>Classificação</th>\n",
       "    </tr>\n",
       "  </thead>\n",
       "  <tbody>\n",
       "    <tr>\n",
       "      <th>0</th>\n",
       "      <td>tudo q eu queria agr é ta todo encolhido na sa...</td>\n",
       "      <td>1</td>\n",
       "    </tr>\n",
       "    <tr>\n",
       "      <th>1</th>\n",
       "      <td>queria um big mac uma batata grande e um milks...</td>\n",
       "      <td>1</td>\n",
       "    </tr>\n",
       "    <tr>\n",
       "      <th>2</th>\n",
       "      <td>@its_lela @burgerkingbr desmereceram meu big m...</td>\n",
       "      <td>1</td>\n",
       "    </tr>\n",
       "    <tr>\n",
       "      <th>3</th>\n",
       "      <td>achei um big mac na geladeira que salvou 🤣</td>\n",
       "      <td>1</td>\n",
       "    </tr>\n",
       "    <tr>\n",
       "      <th>4</th>\n",
       "      <td>hoje minha família inteira jantou big mac tá f...</td>\n",
       "      <td>1</td>\n",
       "    </tr>\n",
       "    <tr>\n",
       "      <th>...</th>\n",
       "      <td>...</td>\n",
       "      <td>...</td>\n",
       "    </tr>\n",
       "    <tr>\n",
       "      <th>195</th>\n",
       "      <td>já não comia um big mac há algum tempo</td>\n",
       "      <td>0</td>\n",
       "    </tr>\n",
       "    <tr>\n",
       "      <th>196</th>\n",
       "      <td>o big mac r099 mas nem isso eu tenho pra comprar</td>\n",
       "      <td>0</td>\n",
       "    </tr>\n",
       "    <tr>\n",
       "      <th>197</th>\n",
       "      <td>errado é o febem quando foi comprar um big mac...</td>\n",
       "      <td>0</td>\n",
       "    </tr>\n",
       "    <tr>\n",
       "      <th>198</th>\n",
       "      <td>@mancheterevista linha de frente do projota  p...</td>\n",
       "      <td>0</td>\n",
       "    </tr>\n",
       "    <tr>\n",
       "      <th>199</th>\n",
       "      <td>só um sushi ou um big mac p fechar c chave d o...</td>\n",
       "      <td>0</td>\n",
       "    </tr>\n",
       "  </tbody>\n",
       "</table>\n",
       "<p>200 rows × 2 columns</p>\n",
       "</div>"
      ],
      "text/plain": [
       "                                                 Teste  Classificação\n",
       "0    tudo q eu queria agr é ta todo encolhido na sa...              1\n",
       "1    queria um big mac uma batata grande e um milks...              1\n",
       "2    @its_lela @burgerkingbr desmereceram meu big m...              1\n",
       "3           achei um big mac na geladeira que salvou 🤣              1\n",
       "4    hoje minha família inteira jantou big mac tá f...              1\n",
       "..                                                 ...            ...\n",
       "195             já não comia um big mac há algum tempo              0\n",
       "196   o big mac r099 mas nem isso eu tenho pra comprar              0\n",
       "197  errado é o febem quando foi comprar um big mac...              0\n",
       "198  @mancheterevista linha de frente do projota  p...              0\n",
       "199  só um sushi ou um big mac p fechar c chave d o...              0\n",
       "\n",
       "[200 rows x 2 columns]"
      ]
     },
     "execution_count": 45,
     "metadata": {},
     "output_type": "execute_result"
    }
   ],
   "source": [
    "test"
   ]
  },
  {
   "cell_type": "markdown",
   "metadata": {},
   "source": [
    "### Comparação para o Naïve-Bayes:\n",
    "\n",
    "Para classificarmos os tweets da nossa planilha teste, vamos usar a determinada comparação:\n",
    "<br>\n",
    "$P(1|tweet) > P(0|tweet)$\n",
    "<br>\n",
    "Ou seja, a probabilidade do meu tweet ser relevante é maior que a probabilidade de ser irrelevante.\n",
    "### Para que serve essa comparação?\n",
    "\n",
    "Justamente para determinarmos futuramente uma nova coluna na base de Teste de acordo com essa comparação.\n",
    "\n",
    "Sabemos que:<br>\n",
    "$P(1|tweet) = \\frac{P(tweet|1)P(1)}{P(tweet)}$\n",
    "<br>\n",
    "$P(0|tweet) = \\frac{P(tweet|0)P(0)}{P(tweet)}$<br>\n",
    "Entretanto, a Naïve-Bayes facilita os nossos cálculos, em que vamos desconsiderar o denominador, ou seja, iremos comparar apenas os numeradores."
   ]
  },
  {
   "cell_type": "markdown",
   "metadata": {},
   "source": [
    "### Suavização de Laplace para $P(1|tweet)$:"
   ]
  },
  {
   "cell_type": "code",
   "execution_count": 46,
   "metadata": {},
   "outputs": [
    {
     "data": {
      "text/plain": [
       "200"
      ]
     },
     "execution_count": 46,
     "metadata": {},
     "output_type": "execute_result"
    }
   ],
   "source": [
    "# Agora vamos calcular dado um tweet, a probabilidade dele ser relevante.\n",
    "# Para isso, precisamos descobrir dado um espaço amostral de relevância qual a probabilidade do meu tweet estar nele?\n",
    "# Inicialmente, vamos definir a variável da probabilidade de ser relevante dado um tweet igual a probabilidade de uma palavra \n",
    "# ser relevante(logo logo você irá entender):\n",
    "P_1dadoT = P_palavra_1\n",
    "# agora vamos definir uma lista para armazenar essas variáveis:\n",
    "lista_1 = []\n",
    "#analisando um tweet:\n",
    "for tweet in test.Teste:\n",
    "    #analisando a palavra dentro do tweet:\n",
    "    for palavra in tweet.split():\n",
    "        if palavra not in series_1:\n",
    "            P_1dadoT *= (0 + 1) / (series_1.sum() + len(series))\n",
    "        else:\n",
    "            P_1dadoT *= (series_1[palavra] + 1)/(series_1.sum() + len(series))\n",
    "    lista_1.append(P_1dadoT)\n",
    "    P_1dadoT = P_palavra_1\n",
    "len(lista_1)"
   ]
  },
  {
   "cell_type": "markdown",
   "metadata": {},
   "source": [
    "### Suavização de Laplace para $P(0|tweet)$:"
   ]
  },
  {
   "cell_type": "code",
   "execution_count": 47,
   "metadata": {},
   "outputs": [
    {
     "data": {
      "text/plain": [
       "200"
      ]
     },
     "execution_count": 47,
     "metadata": {},
     "output_type": "execute_result"
    }
   ],
   "source": [
    "# Agora vamos calcular dado um tweet, a probabilidade dele ser irrelevante.\n",
    "# Para isso, precisamos descobrir dado um espaço amostral de irrelevância qual a probabilidade do meu tweet estar nele?\n",
    "# Inicialmente, vamos definir a variável da probabilidade de ser irrelevante dado um tweet igual a probabilidade de uma palavra \n",
    "# ser irrelevante(logo logo você irá entender):\n",
    "lista_0 = []\n",
    "# agora vamos definir uma lista para armazenar essas variáveis:\n",
    "P_0dadoT =  P_palavra_0\n",
    "#analisando um tweet:\n",
    "for tweet in test.Teste:\n",
    "    #analisando a palavra dentro do tweet:\n",
    "    for palavra in tweet.split():\n",
    "        if palavra not in series_0:\n",
    "            P_0dadoT *= (0 + 1)/(series_0.sum() + len(series))\n",
    "        else:\n",
    "            P_0dadoT *= (series_0[palavra] + 1)/(series_0.sum() + len(series))\n",
    "    lista_0.append(P_0dadoT)\n",
    "    P_0dadoT = P_palavra_0\n",
    "len(lista_0)"
   ]
  },
  {
   "cell_type": "markdown",
   "metadata": {},
   "source": [
    "### Criando nova coluna de acordo com a comparação para o Naïve-Bayes:"
   ]
  },
  {
   "cell_type": "code",
   "execution_count": 48,
   "metadata": {
    "scrolled": false
   },
   "outputs": [
    {
     "data": {
      "text/html": [
       "<div>\n",
       "<style scoped>\n",
       "    .dataframe tbody tr th:only-of-type {\n",
       "        vertical-align: middle;\n",
       "    }\n",
       "\n",
       "    .dataframe tbody tr th {\n",
       "        vertical-align: top;\n",
       "    }\n",
       "\n",
       "    .dataframe thead th {\n",
       "        text-align: right;\n",
       "    }\n",
       "</style>\n",
       "<table border=\"1\" class=\"dataframe\">\n",
       "  <thead>\n",
       "    <tr style=\"text-align: right;\">\n",
       "      <th></th>\n",
       "      <th>Teste</th>\n",
       "      <th>Classificação</th>\n",
       "      <th>Comparação</th>\n",
       "    </tr>\n",
       "  </thead>\n",
       "  <tbody>\n",
       "    <tr>\n",
       "      <th>0</th>\n",
       "      <td>tudo q eu queria agr é ta todo encolhido na sa...</td>\n",
       "      <td>1</td>\n",
       "      <td>1</td>\n",
       "    </tr>\n",
       "    <tr>\n",
       "      <th>1</th>\n",
       "      <td>queria um big mac uma batata grande e um milks...</td>\n",
       "      <td>1</td>\n",
       "      <td>1</td>\n",
       "    </tr>\n",
       "    <tr>\n",
       "      <th>2</th>\n",
       "      <td>@its_lela @burgerkingbr desmereceram meu big m...</td>\n",
       "      <td>1</td>\n",
       "      <td>1</td>\n",
       "    </tr>\n",
       "    <tr>\n",
       "      <th>3</th>\n",
       "      <td>achei um big mac na geladeira que salvou 🤣</td>\n",
       "      <td>1</td>\n",
       "      <td>1</td>\n",
       "    </tr>\n",
       "    <tr>\n",
       "      <th>4</th>\n",
       "      <td>hoje minha família inteira jantou big mac tá f...</td>\n",
       "      <td>1</td>\n",
       "      <td>1</td>\n",
       "    </tr>\n",
       "    <tr>\n",
       "      <th>...</th>\n",
       "      <td>...</td>\n",
       "      <td>...</td>\n",
       "      <td>...</td>\n",
       "    </tr>\n",
       "    <tr>\n",
       "      <th>195</th>\n",
       "      <td>já não comia um big mac há algum tempo</td>\n",
       "      <td>0</td>\n",
       "      <td>1</td>\n",
       "    </tr>\n",
       "    <tr>\n",
       "      <th>196</th>\n",
       "      <td>o big mac r099 mas nem isso eu tenho pra comprar</td>\n",
       "      <td>0</td>\n",
       "      <td>0</td>\n",
       "    </tr>\n",
       "    <tr>\n",
       "      <th>197</th>\n",
       "      <td>errado é o febem quando foi comprar um big mac...</td>\n",
       "      <td>0</td>\n",
       "      <td>1</td>\n",
       "    </tr>\n",
       "    <tr>\n",
       "      <th>198</th>\n",
       "      <td>@mancheterevista linha de frente do projota  p...</td>\n",
       "      <td>0</td>\n",
       "      <td>0</td>\n",
       "    </tr>\n",
       "    <tr>\n",
       "      <th>199</th>\n",
       "      <td>só um sushi ou um big mac p fechar c chave d o...</td>\n",
       "      <td>0</td>\n",
       "      <td>1</td>\n",
       "    </tr>\n",
       "  </tbody>\n",
       "</table>\n",
       "<p>200 rows × 3 columns</p>\n",
       "</div>"
      ],
      "text/plain": [
       "                                                 Teste  Classificação  \\\n",
       "0    tudo q eu queria agr é ta todo encolhido na sa...              1   \n",
       "1    queria um big mac uma batata grande e um milks...              1   \n",
       "2    @its_lela @burgerkingbr desmereceram meu big m...              1   \n",
       "3           achei um big mac na geladeira que salvou 🤣              1   \n",
       "4    hoje minha família inteira jantou big mac tá f...              1   \n",
       "..                                                 ...            ...   \n",
       "195             já não comia um big mac há algum tempo              0   \n",
       "196   o big mac r099 mas nem isso eu tenho pra comprar              0   \n",
       "197  errado é o febem quando foi comprar um big mac...              0   \n",
       "198  @mancheterevista linha de frente do projota  p...              0   \n",
       "199  só um sushi ou um big mac p fechar c chave d o...              0   \n",
       "\n",
       "     Comparação  \n",
       "0             1  \n",
       "1             1  \n",
       "2             1  \n",
       "3             1  \n",
       "4             1  \n",
       "..          ...  \n",
       "195           1  \n",
       "196           0  \n",
       "197           1  \n",
       "198           0  \n",
       "199           1  \n",
       "\n",
       "[200 rows x 3 columns]"
      ]
     },
     "execution_count": 48,
     "metadata": {},
     "output_type": "execute_result"
    }
   ],
   "source": [
    "comparador_Naive_Bayes = []\n",
    "for i in range(len(lista_1)):\n",
    "    if lista_0[i] > lista_1[i]:\n",
    "        comparador_Naive_Bayes.append(0)\n",
    "    else:\n",
    "        comparador_Naive_Bayes.append(1)\n",
    "test['Comparação'] = comparador_Naive_Bayes\n",
    "test"
   ]
  },
  {
   "cell_type": "code",
   "execution_count": 59,
   "metadata": {},
   "outputs": [
    {
     "name": "stdout",
     "output_type": "stream",
     "text": [
      "Podemos notar de acordo com nosso classificador que a maioria das pessoas possuem um sentimento positivo em relação ao bigmac: 125 pessoas das 200,possuem sentimento positivo.\n"
     ]
    }
   ],
   "source": [
    "\n",
    "print(\"Podemos notar de acordo com nosso classificador que a maioria das pessoas possuem um sentimento positivo em relação ao bigmac: {0} pessoas das 200,possuem sentimento positivo.\".format(len(test.loc[test.Comparação == 1,:])))"
   ]
  },
  {
   "cell_type": "markdown",
   "metadata": {},
   "source": [
    "### Acurácia:"
   ]
  },
  {
   "cell_type": "code",
   "execution_count": 49,
   "metadata": {},
   "outputs": [
    {
     "name": "stdout",
     "output_type": "stream",
     "text": [
      "Tivemos um total de 75.5% de exatidão.\n"
     ]
    }
   ],
   "source": [
    "exatidao = 0\n",
    "for i in range(200):\n",
    "    if test['Classificação'][i] == test['Comparação'][i]:\n",
    "        exatidao += 1\n",
    "print('Tivemos um total de {0}% de exatidão.'.format((exatidao/200)*100))"
   ]
  },
  {
   "cell_type": "markdown",
   "metadata": {},
   "source": [
    "### Tabela de visualização:"
   ]
  },
  {
   "cell_type": "code",
   "execution_count": 50,
   "metadata": {
    "scrolled": true
   },
   "outputs": [
    {
     "data": {
      "text/html": [
       "<div>\n",
       "<style scoped>\n",
       "    .dataframe tbody tr th:only-of-type {\n",
       "        vertical-align: middle;\n",
       "    }\n",
       "\n",
       "    .dataframe tbody tr th {\n",
       "        vertical-align: top;\n",
       "    }\n",
       "\n",
       "    .dataframe thead th {\n",
       "        text-align: right;\n",
       "    }\n",
       "</style>\n",
       "<table border=\"1\" class=\"dataframe\">\n",
       "  <thead>\n",
       "    <tr style=\"text-align: right;\">\n",
       "      <th>Comparação</th>\n",
       "      <th>0</th>\n",
       "      <th>1</th>\n",
       "    </tr>\n",
       "    <tr>\n",
       "      <th>Classificação</th>\n",
       "      <th></th>\n",
       "      <th></th>\n",
       "    </tr>\n",
       "  </thead>\n",
       "  <tbody>\n",
       "    <tr>\n",
       "      <th>0</th>\n",
       "      <td>31.5</td>\n",
       "      <td>18.5</td>\n",
       "    </tr>\n",
       "    <tr>\n",
       "      <th>1</th>\n",
       "      <td>6.0</td>\n",
       "      <td>44.0</td>\n",
       "    </tr>\n",
       "  </tbody>\n",
       "</table>\n",
       "</div>"
      ],
      "text/plain": [
       "Comparação        0     1\n",
       "Classificação            \n",
       "0              31.5  18.5\n",
       "1               6.0  44.0"
      ]
     },
     "execution_count": 50,
     "metadata": {},
     "output_type": "execute_result"
    }
   ],
   "source": [
    "tabela = pd.crosstab(test['Classificação'],test['Comparação'], normalize = True)*100\n",
    "tabela"
   ]
  },
  {
   "cell_type": "markdown",
   "metadata": {},
   "source": [
    "### Resultados:"
   ]
  },
  {
   "cell_type": "code",
   "execution_count": 60,
   "metadata": {
    "scrolled": false
   },
   "outputs": [
    {
     "name": "stdout",
     "output_type": "stream",
     "text": [
      "Verdadeiros Negativos: 31.5%\n",
      "Falsos Negativos: 18.5%\n",
      "Falsos Positivos: 6.0%\n",
      "Verdadeiros Positivos: 44.0%\n"
     ]
    }
   ],
   "source": [
    "print('Verdadeiros Negativos: {0}%'.format(tabela[0][0]))\n",
    "print('Falsos Negativos: {0}%'.format(tabela[1][0])) \n",
    "print('Falsos Positivos: {0}%'.format(tabela[0][1].round(1)))\n",
    "print('Verdadeiros Positivos: {0}%'.format(tabela[1][1]))"
   ]
  },
  {
   "cell_type": "markdown",
   "metadata": {},
   "source": [
    "___\n",
    "## Conclusão"
   ]
  },
  {
   "cell_type": "markdown",
   "metadata": {},
   "source": [
    "De acordo com a acurácia, obtivemos uma exatidão de 75.5% de acertos, tomando como comparação o nosso classificador. Isso significa que apesar de diversos fatores, os integrantes do grugo apresentaram uma concepção parecida em relação ao critério de avaliação dos tweets (Um sentimento positivo ao \"Big Mac\").\n",
    "\n",
    "Somando os falsos negativos com os falsos postivos chegamos a uma porcentagem baixa de 24,5% de erros(Valores que nós avaliamos diferentemento do classificador).\n",
    "\n",
    "Vale ressaltar que essa exatidão é influenciada por outros diversos fatores que impedem uma frequência de 100% nas classificações, como por exemplo: o contexto na qual o \"tweet\" foi escrito, a ironia (sarcasmo),e a dupla negação,pois como de forma simplificada o que o nosso classificador faz é contar palavras,e ele não sabe se essa palavra que contou está sendo utilizada em um contexto ironico ou de dupla negação,portanto não sendo totalmente efetivo.Além de não entender o significado de cada emoji e os usuários marcados etc.\n",
    "\n",
    "Após a nossa análise verificamos que o público realmente tem uma relação positiva com o bigmac.Podemos notar de acordo com nosso classificador que a maioria das pessoas possuem um sentimento positivo em relação ao bigmac: 125 pessoas das 200,possuem sentimento positivo.Então esse projeto deve continuar a ser investido para que essa relação de afinidade com o público continue sendo monitorada.\n",
    "\n",
    "<h3> Por por que não posso alimentar minha base de Treinamento\n",
    "automaticamente usando o próprio classificador, aplicado a novos tweets? </h3> \n",
    "\n",
    "Nós não podemos utilizar o nosso próprio classificador para novas amostras pois,em seu funcimento ele utiliza uma base pré existente e se utilizamos ele para alimentar o treinamento ele começaria a comparar esses novos exemplos com ele mesmo.\n",
    "<h3>Diferentes cenários para o Naive-Bayes</h3>\n",
    "\n",
    "Podemos utilizar o classificado de Naive-Bayes principalmente em análise de textos,filtragem de spam,probabilidade de hipóteses.\n",
    "\n",
    "<h3>Sugestão de melhorias</h3>\n",
    "1 . Aumentar o número de integrantes da equipe que manualmente classificam os tweets pois dessa maneira o classificador vai entender melhor o conceito de relevância e irrelevância de determinado grupo.\n",
    "<br>\n",
    "2 . A partir de padrões seria interessantes se o classificador notar a presença de ironia e dupla negação para que esses erros não influenciem negativamente,já que é um uso comum a ironica e a dupla negação\n",
    "<br>\n",
    "3.Segmentar melhor as informações para que o classificador não tenha tantos problemas na classificação pois o tema/grupo que está sendo analisado é menor e mais específico.\n",
    "<br>\n",
    "https://machinelearningmastery.com/better-naive-bayes/"
   ]
  },
  {
   "cell_type": "markdown",
   "metadata": {},
   "source": [
    "___\n",
    "## Referências"
   ]
  },
  {
   "cell_type": "markdown",
   "metadata": {},
   "source": [
    "[Naive Bayes and Text Classification](https://arxiv.org/pdf/1410.5329.pdf)  **Mais completo**\n",
    "\n",
    "[A practical explanation of a Naive Bayes Classifier](https://monkeylearn.com/blog/practical-explanation-naive-bayes-classifier/) **Mais simples**"
   ]
  }
 ],
 "metadata": {
  "kernelspec": {
   "display_name": "Python 3",
   "language": "python",
   "name": "python3"
  },
  "language_info": {
   "codemirror_mode": {
    "name": "ipython",
    "version": 3
   },
   "file_extension": ".py",
   "mimetype": "text/x-python",
   "name": "python",
   "nbconvert_exporter": "python",
   "pygments_lexer": "ipython3",
   "version": "3.7.7"
  }
 },
 "nbformat": 4,
 "nbformat_minor": 4
}
